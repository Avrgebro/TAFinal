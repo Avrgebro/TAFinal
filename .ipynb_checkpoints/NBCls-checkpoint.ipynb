{
 "cells": [
  {
   "cell_type": "code",
   "execution_count": 1,
   "metadata": {
    "collapsed": true
   },
   "outputs": [],
   "source": [
    "import pandas as pd\n",
    "from collections import Counter\n",
    "from operator import itemgetter\n",
    "from sklearn.feature_extraction.text import TfidfVectorizer\n",
    "from sklearn.feature_extraction.text import CountVectorizer\n",
    "from sklearn.feature_extraction.text import TfidfTransformer\n",
    "#from sklearn.pipeline import Pipeline\n",
    "from sklearn.naive_bayes import MultinomialNB\n",
    "import math\n",
    "from nltk.stem.porter import *\n",
    "from nltk.corpus import stopwords\n",
    "import nltk\n",
    "\n",
    "#nltk.download()\n",
    "stemmer = PorterStemmer()\n",
    "vectorizer = CountVectorizer()\n",
    "tfidf = TfidfTransformer()"
   ]
  },
  {
   "cell_type": "code",
   "execution_count": 2,
   "metadata": {
    "collapsed": true
   },
   "outputs": [],
   "source": [
    "def remove_punctuation(text):\n",
    "    return re.sub(ur\"[^\\w\\d'\\s]+\",'',text)\n",
    "\n",
    "\n",
    "def normalize(review):\n",
    "    stops = set(stopwords.words(\"english\"))\n",
    "    review = review.lower()\n",
    "    review = remove_punctuation(review)\n",
    "    #split_tokens = review.split()\n",
    "    split_tokens = nltk.word_tokenize(review)\n",
    "    split_tokens = [w for w in split_tokens if not w in stops]\n",
    "    tokens = [stemmer.stem(token) for token in split_tokens]\n",
    "    return tokens\n",
    "\n",
    "def Bow(reviews):   \n",
    "    aux_idf = [\" \".join(rev) for rev in reviews]\n",
    "    matrix = vectorizer.fit_transform(aux_idf)\n",
    "    return matrix"
   ]
  },
  {
   "cell_type": "code",
   "execution_count": 3,
   "metadata": {},
   "outputs": [
    {
     "data": {
      "text/html": [
       "<div>\n",
       "<style>\n",
       "    .dataframe thead tr:only-child th {\n",
       "        text-align: right;\n",
       "    }\n",
       "\n",
       "    .dataframe thead th {\n",
       "        text-align: left;\n",
       "    }\n",
       "\n",
       "    .dataframe tbody tr th {\n",
       "        vertical-align: top;\n",
       "    }\n",
       "</style>\n",
       "<table border=\"1\" class=\"dataframe\">\n",
       "  <thead>\n",
       "    <tr style=\"text-align: right;\">\n",
       "      <th></th>\n",
       "      <th>Phrase</th>\n",
       "      <th>Sentiment</th>\n",
       "    </tr>\n",
       "  </thead>\n",
       "  <tbody>\n",
       "    <tr>\n",
       "      <th>0</th>\n",
       "      <td>A series of escapades demonstrating the adage ...</td>\n",
       "      <td>1</td>\n",
       "    </tr>\n",
       "    <tr>\n",
       "      <th>1</th>\n",
       "      <td>A series of escapades demonstrating the adage ...</td>\n",
       "      <td>2</td>\n",
       "    </tr>\n",
       "    <tr>\n",
       "      <th>2</th>\n",
       "      <td>A series</td>\n",
       "      <td>2</td>\n",
       "    </tr>\n",
       "    <tr>\n",
       "      <th>3</th>\n",
       "      <td>A</td>\n",
       "      <td>2</td>\n",
       "    </tr>\n",
       "    <tr>\n",
       "      <th>4</th>\n",
       "      <td>series</td>\n",
       "      <td>2</td>\n",
       "    </tr>\n",
       "    <tr>\n",
       "      <th>5</th>\n",
       "      <td>of escapades demonstrating the adage that what...</td>\n",
       "      <td>2</td>\n",
       "    </tr>\n",
       "    <tr>\n",
       "      <th>6</th>\n",
       "      <td>of</td>\n",
       "      <td>2</td>\n",
       "    </tr>\n",
       "    <tr>\n",
       "      <th>7</th>\n",
       "      <td>escapades demonstrating the adage that what is...</td>\n",
       "      <td>2</td>\n",
       "    </tr>\n",
       "    <tr>\n",
       "      <th>8</th>\n",
       "      <td>escapades</td>\n",
       "      <td>2</td>\n",
       "    </tr>\n",
       "    <tr>\n",
       "      <th>9</th>\n",
       "      <td>demonstrating the adage that what is good for ...</td>\n",
       "      <td>2</td>\n",
       "    </tr>\n",
       "  </tbody>\n",
       "</table>\n",
       "</div>"
      ],
      "text/plain": [
       "                                              Phrase  Sentiment\n",
       "0  A series of escapades demonstrating the adage ...          1\n",
       "1  A series of escapades demonstrating the adage ...          2\n",
       "2                                           A series          2\n",
       "3                                                  A          2\n",
       "4                                             series          2\n",
       "5  of escapades demonstrating the adage that what...          2\n",
       "6                                                 of          2\n",
       "7  escapades demonstrating the adage that what is...          2\n",
       "8                                          escapades          2\n",
       "9  demonstrating the adage that what is good for ...          2"
      ]
     },
     "execution_count": 3,
     "metadata": {},
     "output_type": "execute_result"
    }
   ],
   "source": [
    "df = pd.read_csv('train.tsv', sep=\"\\t\", skiprows =[0], header = None)\n",
    "df.columns = [\"Phraseid\", \"Sentenceid\", \"Phrase\", \"Sentiment\"]\n",
    "df.drop(df.columns[:2], axis = 1, inplace = True)\n",
    "df.head(10)"
   ]
  },
  {
   "cell_type": "code",
   "execution_count": 4,
   "metadata": {},
   "outputs": [
    {
     "name": "stdout",
     "output_type": "stream",
     "text": [
      "a juicy soap opera\n",
      "[u'juici', u'soap', u'opera']\n"
     ]
    }
   ],
   "source": [
    "reviews = df['Phrase'].tolist()\n",
    "clasif = df['Sentiment'].tolist()\n",
    "\n",
    "reviews = [review.decode('utf-8') for review in reviews]\n",
    "norm_revs = [normalize(review) for review in reviews]\n",
    "print reviews[150]\n",
    "print norm_revs[150]"
   ]
  },
  {
   "cell_type": "code",
   "execution_count": 5,
   "metadata": {},
   "outputs": [
    {
     "data": {
      "text/plain": [
       "[0.04531590413943355,\n",
       " 0.1747597078046905,\n",
       " 0.5099448929898757,\n",
       " 0.21098936306548763,\n",
       " 0.058990132000512625]"
      ]
     },
     "execution_count": 5,
     "metadata": {},
     "output_type": "execute_result"
    }
   ],
   "source": [
    "count = Bow(norm_revs)\n",
    "ttfidf = tfidf.fit_transform(count)\n",
    "##################################################\n",
    "#calculo de probabilidades a priori\n",
    "clasif_count = (Counter(clasif).most_common())\n",
    "clasif_count.sort(key = itemgetter(0))\n",
    "\n",
    "aux_pp = [elem[1] for elem in clasif_count]\n",
    "prior_probs = [elem/float(len(reviews)) for elem in aux_pp]\n",
    "prior_probs"
   ]
  },
  {
   "cell_type": "code",
   "execution_count": 6,
   "metadata": {
    "collapsed": true
   },
   "outputs": [],
   "source": [
    "classifier = MultinomialNB(alpha=1.0, class_prior=prior_probs, fit_prior=True)\n",
    "nbcls  = classifier.fit(ttfidf, clasif)#aca iba ttfidf"
   ]
  },
  {
   "cell_type": "code",
   "execution_count": 7,
   "metadata": {},
   "outputs": [
    {
     "data": {
      "text/html": [
       "<div>\n",
       "<style>\n",
       "    .dataframe thead tr:only-child th {\n",
       "        text-align: right;\n",
       "    }\n",
       "\n",
       "    .dataframe thead th {\n",
       "        text-align: left;\n",
       "    }\n",
       "\n",
       "    .dataframe tbody tr th {\n",
       "        vertical-align: top;\n",
       "    }\n",
       "</style>\n",
       "<table border=\"1\" class=\"dataframe\">\n",
       "  <thead>\n",
       "    <tr style=\"text-align: right;\">\n",
       "      <th></th>\n",
       "      <th>Phraseid</th>\n",
       "      <th>Phrase</th>\n",
       "    </tr>\n",
       "  </thead>\n",
       "  <tbody>\n",
       "    <tr>\n",
       "      <th>66282</th>\n",
       "      <td>222343</td>\n",
       "      <td>should have called it Gutterball</td>\n",
       "    </tr>\n",
       "    <tr>\n",
       "      <th>66283</th>\n",
       "      <td>222344</td>\n",
       "      <td>have called it Gutterball</td>\n",
       "    </tr>\n",
       "    <tr>\n",
       "      <th>66284</th>\n",
       "      <td>222345</td>\n",
       "      <td>called it Gutterball</td>\n",
       "    </tr>\n",
       "    <tr>\n",
       "      <th>66285</th>\n",
       "      <td>222346</td>\n",
       "      <td>it Gutterball</td>\n",
       "    </tr>\n",
       "    <tr>\n",
       "      <th>66286</th>\n",
       "      <td>222347</td>\n",
       "      <td>Gutterball</td>\n",
       "    </tr>\n",
       "    <tr>\n",
       "      <th>66287</th>\n",
       "      <td>222348</td>\n",
       "      <td>A long-winded , predictable scenario .</td>\n",
       "    </tr>\n",
       "    <tr>\n",
       "      <th>66288</th>\n",
       "      <td>222349</td>\n",
       "      <td>A long-winded , predictable scenario</td>\n",
       "    </tr>\n",
       "    <tr>\n",
       "      <th>66289</th>\n",
       "      <td>222350</td>\n",
       "      <td>A long-winded ,</td>\n",
       "    </tr>\n",
       "    <tr>\n",
       "      <th>66290</th>\n",
       "      <td>222351</td>\n",
       "      <td>A long-winded</td>\n",
       "    </tr>\n",
       "    <tr>\n",
       "      <th>66291</th>\n",
       "      <td>222352</td>\n",
       "      <td>predictable scenario</td>\n",
       "    </tr>\n",
       "  </tbody>\n",
       "</table>\n",
       "</div>"
      ],
      "text/plain": [
       "       Phraseid                                  Phrase\n",
       "66282    222343        should have called it Gutterball\n",
       "66283    222344               have called it Gutterball\n",
       "66284    222345                    called it Gutterball\n",
       "66285    222346                           it Gutterball\n",
       "66286    222347                              Gutterball\n",
       "66287    222348  A long-winded , predictable scenario .\n",
       "66288    222349    A long-winded , predictable scenario\n",
       "66289    222350                         A long-winded ,\n",
       "66290    222351                           A long-winded\n",
       "66291    222352                    predictable scenario"
      ]
     },
     "execution_count": 7,
     "metadata": {},
     "output_type": "execute_result"
    }
   ],
   "source": [
    "test = pd.read_csv('test.tsv', sep=\"\\t\", skiprows =[0], header = None)\n",
    "test.columns = [\"Phraseid\", \"Sentenceid\", \"Phrase\"]\n",
    "test.drop(test.columns[1], axis = 1, inplace = True)\n",
    "\n",
    "test.tail(10)"
   ]
  },
  {
   "cell_type": "code",
   "execution_count": 8,
   "metadata": {},
   "outputs": [
    {
     "data": {
      "text/plain": [
       "'rhythm'"
      ]
     },
     "execution_count": 8,
     "metadata": {},
     "output_type": "execute_result"
    }
   ],
   "source": [
    "tests = test['Phrase'].tolist()\n",
    "ids = test['Phraseid'].tolist()\n",
    "\n",
    "norm_test = [normalize(test) for test in tests]\n",
    "norm_test = [\" \".join(test) for test in norm_test]\n",
    "\n",
    "norm_test[100]"
   ]
  },
  {
   "cell_type": "code",
   "execution_count": 9,
   "metadata": {},
   "outputs": [
    {
     "name": "stdout",
     "output_type": "stream",
     "text": [
      "[3 3 2 3 3 3 3 3 3 2]\n"
     ]
    }
   ],
   "source": [
    "vec = vectorizer.transform(norm_test)\n",
    "\n",
    "sents = nbcls.predict(vec)\n",
    "\n",
    "print sents[0:10]"
   ]
  },
  {
   "cell_type": "code",
   "execution_count": 10,
   "metadata": {
    "collapsed": true
   },
   "outputs": [],
   "source": [
    "data = zip(ids,sents)\n",
    "ans = pd.DataFrame(data)\n",
    "ans.columns = [\"PhraseId\", \"Sentiment\"]\n",
    "\n",
    "ans.to_csv('Sentimentsipynb.csv', sep=',', index=False)"
   ]
  },
  {
   "cell_type": "code",
   "execution_count": null,
   "metadata": {
    "collapsed": true
   },
   "outputs": [],
   "source": []
  }
 ],
 "metadata": {
  "kernelspec": {
   "display_name": "Python 2",
   "language": "python",
   "name": "python2"
  },
  "language_info": {
   "codemirror_mode": {
    "name": "ipython",
    "version": 2
   },
   "file_extension": ".py",
   "mimetype": "text/x-python",
   "name": "python",
   "nbconvert_exporter": "python",
   "pygments_lexer": "ipython2",
   "version": "2.7.13"
  }
 },
 "nbformat": 4,
 "nbformat_minor": 2
}
